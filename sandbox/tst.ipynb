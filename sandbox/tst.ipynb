{
 "cells": [
  {
   "cell_type": "code",
   "execution_count": 1,
   "id": "0e5a105e-e1fb-4211-a0f0-9b191d092e5b",
   "metadata": {},
   "outputs": [],
   "source": [
    "import nestsmart.Asset"
   ]
  },
  {
   "cell_type": "code",
   "execution_count": 3,
   "id": "753c9dc8-b42c-41fe-9753-238a4b8ab18d",
   "metadata": {},
   "outputs": [
    {
     "ename": "TypeError",
     "evalue": "Asset.__init__() missing 5 required positional arguments: 'initial_investment', 'cash_in', 'cash_out', 'returns', and 'years'",
     "output_type": "error",
     "traceback": [
      "\u001b[0;31m---------------------------------------------------------------------------\u001b[0m",
      "\u001b[0;31mTypeError\u001b[0m                                 Traceback (most recent call last)",
      "Cell \u001b[0;32mIn[3], line 1\u001b[0m\n\u001b[0;32m----> 1\u001b[0m \u001b[43mnestsmart\u001b[49m\u001b[38;5;241;43m.\u001b[39;49m\u001b[43mAsset\u001b[49m\u001b[38;5;241;43m.\u001b[39;49m\u001b[43mAsset\u001b[49m\u001b[43m(\u001b[49m\u001b[43m)\u001b[49m\n",
      "\u001b[0;31mTypeError\u001b[0m: Asset.__init__() missing 5 required positional arguments: 'initial_investment', 'cash_in', 'cash_out', 'returns', and 'years'"
     ]
    }
   ],
   "source": [
    "nestsmart.Asset.Asset()"
   ]
  }
 ],
 "metadata": {
  "kernelspec": {
   "display_name": "Python 3 (ipykernel)",
   "language": "python",
   "name": "python3"
  },
  "language_info": {
   "codemirror_mode": {
    "name": "ipython",
    "version": 3
   },
   "file_extension": ".py",
   "mimetype": "text/x-python",
   "name": "python",
   "nbconvert_exporter": "python",
   "pygments_lexer": "ipython3",
   "version": "3.12.0"
  }
 },
 "nbformat": 4,
 "nbformat_minor": 5
}
